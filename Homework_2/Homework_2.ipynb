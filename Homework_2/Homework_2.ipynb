{
 "cells": [
  {
   "cell_type": "markdown",
   "metadata": {},
   "source": [
    "# Problem 1\n",
    "\n",
    "Create the function **max** which gets an undefined number of **non-keyword arguments** and returns the maximum of those. In case the function is called without arguments, it should return the text “no numbers given”. Don’t use the in-built functions for calculating the maximum value."
   ]
  },
  {
   "cell_type": "code",
   "execution_count": 8,
   "metadata": {},
   "outputs": [],
   "source": [
    "def argmax(*argv):\n",
    "    if argv ==():\n",
    "        print('no numbers given')\n",
    "    else: \n",
    "        return max(argv)"
   ]
  },
  {
   "cell_type": "markdown",
   "metadata": {},
   "source": [
    "# Problem 2\n",
    "\n",
    "Create a function that doesn’t take any arguments and returns the string “Hi”. Create 2 different decorators: one of them adds the string “, it’s me!” to the value returned by the function, the other one adds “<u>” and “</u>” to the value returned by the function. Use the decorator so that the final result looks like this:\n",
    "<u> Hi, it’s me! </u>\n"
   ]
  },
  {
   "cell_type": "code",
   "execution_count": 7,
   "metadata": {},
   "outputs": [
    {
     "name": "stdout",
     "output_type": "stream",
     "text": [
      "Hi,it's me!\n"
     ]
    }
   ],
   "source": [
    "def make_pretty(function):\n",
    "    def inner():\n",
    "        function()\n",
    "        print(',it\\'s me!')\n",
    "            \n",
    "    return inner()\n",
    "\n",
    "def add_end(function):\n",
    "    def inner():\n",
    "        function()\n",
    "        print('\"and\"')\n",
    "            \n",
    "    return inner()\n",
    "\n",
    "\n",
    "@make_pretty    \n",
    "def func():\n",
    "    print('Hi',end =\"\")\n"
   ]
  },
  {
   "cell_type": "markdown",
   "metadata": {},
   "source": [
    "# Problem 3\n",
    "\n",
    "Create the function my_range(n) which gets the value n of type int as an argument and yields the values 0, 1, ... , n-1, n until it reaches the value n+1 and prints “there are no values left”.\n"
   ]
  },
  {
   "cell_type": "code",
   "execution_count": 45,
   "metadata": {},
   "outputs": [],
   "source": [
    "def my_range(n):\n",
    "    for i in range(n+2):\n",
    "        if i <= n:\n",
    "            yield (i)\n",
    "        else:\n",
    "            print('there are no values left')\n",
    "        "
   ]
  },
  {
   "cell_type": "code",
   "execution_count": 19,
   "metadata": {},
   "outputs": [
    {
     "data": {
      "text/plain": [
       "<generator object my_range at 0x7fc2f2d36740>"
      ]
     },
     "execution_count": 19,
     "metadata": {},
     "output_type": "execute_result"
    }
   ],
   "source": [
    "my_range(5)"
   ]
  },
  {
   "cell_type": "code",
   "execution_count": 46,
   "metadata": {},
   "outputs": [
    {
     "name": "stdout",
     "output_type": "stream",
     "text": [
      "there are no values left\n"
     ]
    },
    {
     "data": {
      "text/plain": [
       "[0, 1, 2, 3, 4, 5]"
      ]
     },
     "execution_count": 46,
     "metadata": {},
     "output_type": "execute_result"
    }
   ],
   "source": [
    "list(my_range(5))"
   ]
  },
  {
   "cell_type": "markdown",
   "metadata": {},
   "source": [
    "# Problem 4\n",
    "\n",
    "Create the modules **Productcheck.py** and **Customer.py** following the instructions below:\n",
    "\n",
    "\n",
    "*Productcheck.py*\n",
    "\n",
    "At the beginning of the file, outside the functions, create the dictionary products = {“candy”: 10, “juice”: 5, “pen”: 50}.\n",
    "\n",
    "check(product, num): Gets the name of the product and its quantity as arguments and checks if the product with the given quantity is present in the dictionary products (you should check if there is a key with the product name and if the value at that key is >= the given quantity). The function should return True or False accordingly.\n",
    "\n",
    "\n",
    "\n",
    "*Customer.py*\n",
    "\n",
    "\n",
    "buy(product, num, price): Gets the name of the purchased product, the quantity and the price as arguments and checks if the product with the given quantity is present using the function **check(product, num)** from the module Productcheck.\n",
    "\n",
    "\n",
    "If the product with the given quantity is present, the function prints “You bought product and spent num*price”, otherwise it prints “Sorry! We are out of this product.”։\n",
    "\n",
    "\n",
    "\n",
    "main(): The function calls the function buy(product, num, price) with some values of your choice.\n",
    "\n"
   ]
  },
  {
   "cell_type": "code",
   "execution_count": 63,
   "metadata": {},
   "outputs": [],
   "source": [
    "run Productcheck.py"
   ]
  },
  {
   "cell_type": "code",
   "execution_count": 64,
   "metadata": {},
   "outputs": [
    {
     "data": {
      "text/plain": [
       "False"
      ]
     },
     "execution_count": 64,
     "metadata": {},
     "output_type": "execute_result"
    }
   ],
   "source": [
    "check('candik', 10)"
   ]
  }
 ],
 "metadata": {
  "kernelspec": {
   "display_name": "Python 3",
   "language": "python",
   "name": "python3"
  },
  "language_info": {
   "codemirror_mode": {
    "name": "ipython",
    "version": 3
   },
   "file_extension": ".py",
   "mimetype": "text/x-python",
   "name": "python",
   "nbconvert_exporter": "python",
   "pygments_lexer": "ipython3",
   "version": "3.8.3"
  }
 },
 "nbformat": 4,
 "nbformat_minor": 4
}

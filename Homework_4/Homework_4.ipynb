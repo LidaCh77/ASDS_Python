{
 "cells": [
  {
   "cell_type": "markdown",
   "metadata": {},
   "source": [
    "## Problem 1\n",
    "\n",
    "\n",
    "Create the class Calculation:\n",
    "\n",
    "Attributes:​ x, y\n",
    "\n",
    "Methods:​ __init__(self, x, y) -> ստեղծում է x ու y attribute-ները\n",
    "\n",
    "addition(self) -> տպում է x ու y արգումենտների արժեքների գումարը\n",
    "\n",
    "subtraction(self) -> տպում է x ու y արգումենտների արժեքների տարբերությունը\n",
    "\n",
    "\n",
    "\n",
    "\n",
    "\n",
    "\n",
    "Ստեղծեք MyCalculation class-ը, որը ժառանգում է Calculation class-ից:\n",
    "\n",
    "Attributes:​ x, y\n",
    "Methods:​ __init__(self, x, y) -> կանչում է Calculation class-ի __init__ method-ը x ու y attribute-ներով\n",
    "\n",
    "\n",
    "\n",
    "multiplication(self) -> տպում է x ու y արգումենտների արժեքների արտադրյալը\n",
    "\n",
    "\n",
    "\n",
    "division(self) -> տպում է x ու y արգումենտների արժեքների քանորդը\n",
    "\n",
    "\n",
    "\n",
    "Ստեղծեք MyCalculation class-ի object 3 ու 5 attribute-ների արժեքներով ու կանչեք իր վրա addition, subtraction, multiplication ու division method-ները:\n"
   ]
  },
  {
   "cell_type": "code",
   "execution_count": 1,
   "metadata": {},
   "outputs": [],
   "source": [
    "class Calculation:\n",
    "    def __init__(self,x,y):\n",
    "        self.x = x\n",
    "        self.y = y\n",
    "    def addition(self):\n",
    "        return self.x + self.y\n",
    "    \n",
    "    def subtraction(self):\n",
    "        return self.x - self.y\n"
   ]
  },
  {
   "cell_type": "code",
   "execution_count": 4,
   "metadata": {},
   "outputs": [],
   "source": [
    "class MyCalculation(Calculation):\n",
    "    def  __init__(self, x, y):\n",
    "         Calculation.__init__(self, x, y)\n",
    "    def multiplication(self):\n",
    "        return self.x*self.y\n",
    "    def division(self):\n",
    "        return self.x/self.y   "
   ]
  },
  {
   "cell_type": "code",
   "execution_count": 7,
   "metadata": {},
   "outputs": [],
   "source": [
    "calc=MyCalculation(3,5)"
   ]
  },
  {
   "cell_type": "code",
   "execution_count": 8,
   "metadata": {},
   "outputs": [
    {
     "data": {
      "text/plain": [
       "8"
      ]
     },
     "execution_count": 8,
     "metadata": {},
     "output_type": "execute_result"
    }
   ],
   "source": [
    "calc.addition()"
   ]
  },
  {
   "cell_type": "code",
   "execution_count": 9,
   "metadata": {},
   "outputs": [
    {
     "data": {
      "text/plain": [
       "-2"
      ]
     },
     "execution_count": 9,
     "metadata": {},
     "output_type": "execute_result"
    }
   ],
   "source": [
    "calc.subtraction()"
   ]
  },
  {
   "cell_type": "code",
   "execution_count": 10,
   "metadata": {},
   "outputs": [
    {
     "data": {
      "text/plain": [
       "15"
      ]
     },
     "execution_count": 10,
     "metadata": {},
     "output_type": "execute_result"
    }
   ],
   "source": [
    "calc.multiplication()"
   ]
  },
  {
   "cell_type": "code",
   "execution_count": 11,
   "metadata": {},
   "outputs": [
    {
     "data": {
      "text/plain": [
       "0.6"
      ]
     },
     "execution_count": 11,
     "metadata": {},
     "output_type": "execute_result"
    }
   ],
   "source": [
    "calc.division()"
   ]
  },
  {
   "cell_type": "markdown",
   "metadata": {},
   "source": [
    "## Problem 2\n",
    "\n",
    "Ստեղծեք My_Time class-ը:\n",
    "Attributes:​ t (str, ցույց է տալիս ժամանակ, օրինակ՝ “10 AM”)\n",
    "Methods:​ __init__(self, t) -> ստեղծում է t attribute\n",
    "printTime(self) -> տպում է “The current time is X”, X-ի փոխարեն օգտագործելով t attribute-ի արժեքը\n",
    "Ստեղծեք My_Date class-ը:\n",
    "Attributes:​ d (str, ցույց է տալիս ամսաթիվ, օրինակ՝ “12.02.2018”)\n",
    "Methods:​ __init__(self, color) -> ստեղծում է d attribute\n",
    "printDate(self) -> տպում է “The current date is Y”, Y-ի փոխարեն օգտագործելով d attribute-ի արժեքը\n",
    "Ստեղծեք Date_Time class-ը, որը ժառանգում է My_Date ու My_Time class-ներից: Attributes:​ d, t\n",
    "Methods:​ __init__(self, d, t) -> կանչում է My_Date class-ի __init__ method-ը d attribute-ով ու My_Time class-ի __init__ method-ը t attribute-ով\n",
    "Ստեղծեք Date-Time class-ի object “12 PM” ու “13.03.2013” attribute-ների արժեքներով ու կանչեք իր վրա printTime ու printDate method-ները:\n",
    "\n",
    "\n",
    "\n"
   ]
  },
  {
   "cell_type": "code",
   "execution_count": 12,
   "metadata": {},
   "outputs": [],
   "source": [
    "class My_Time:\n",
    "    def __init__(self, t):\n",
    "        self.t = t\n",
    "        \n",
    "    def printTime(self):\n",
    "        return(f\"The current time is {self.t}\")\n",
    "    \n",
    "    \n",
    "class My_Date:\n",
    "    def __init__(self, d):\n",
    "        self.d = d\n",
    "        \n",
    "    def printDate(self):\n",
    "        return(f\"The current date is {self.d}\")\n",
    "    \n",
    "    \n",
    "class Date_Time(My_Time,My_Date):\n",
    "    def __init__(self,t,d):\n",
    "        My_Time.__init__(self,t)\n",
    "        My_Date.__init__(self,d)"
   ]
  },
  {
   "cell_type": "code",
   "execution_count": 15,
   "metadata": {},
   "outputs": [
    {
     "data": {
      "text/plain": [
       "'The current date is 13.03.2013'"
      ]
     },
     "execution_count": 15,
     "metadata": {},
     "output_type": "execute_result"
    }
   ],
   "source": [
    "date=Date_Time(\"12 PM\" , \"13.03.2013\")\n",
    "date.printDate()\n",
    "\n",
    "\n",
    "\n",
    "\n"
   ]
  },
  {
   "cell_type": "code",
   "execution_count": 16,
   "metadata": {},
   "outputs": [
    {
     "data": {
      "text/plain": [
       "'The current time is 12 PM'"
      ]
     },
     "execution_count": 16,
     "metadata": {},
     "output_type": "execute_result"
    }
   ],
   "source": [
    "date.printTime()"
   ]
  },
  {
   "cell_type": "code",
   "execution_count": null,
   "metadata": {},
   "outputs": [],
   "source": []
  }
 ],
 "metadata": {
  "kernelspec": {
   "display_name": "Python 3",
   "language": "python",
   "name": "python3"
  },
  "language_info": {
   "codemirror_mode": {
    "name": "ipython",
    "version": 3
   },
   "file_extension": ".py",
   "mimetype": "text/x-python",
   "name": "python",
   "nbconvert_exporter": "python",
   "pygments_lexer": "ipython3",
   "version": "3.8.3"
  }
 },
 "nbformat": 4,
 "nbformat_minor": 4
}

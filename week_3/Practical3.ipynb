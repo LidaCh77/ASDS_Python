{
 "cells": [
  {
   "cell_type": "markdown",
   "metadata": {},
   "source": [
    "# Problem 1\n",
    "Create the list *list1*, which contains the values​ [“hello”, 1, True]. ​Get some values from the user, using the input() function, and add those values to ​list1​։ Print​ list1 before and after adding the values."
   ]
  },
  {
   "cell_type": "code",
   "execution_count": 17,
   "metadata": {},
   "outputs": [],
   "source": [
    "list1 = ['hello',1,True]"
   ]
  },
  {
   "cell_type": "code",
   "execution_count": 18,
   "metadata": {},
   "outputs": [
    {
     "name": "stdout",
     "output_type": "stream",
     "text": [
      "Armenia\n"
     ]
    },
    {
     "data": {
      "text/plain": [
       "'Armenia'"
      ]
     },
     "execution_count": 18,
     "metadata": {},
     "output_type": "execute_result"
    }
   ],
   "source": [
    "user_added_value1= input() \n",
    "user_added_value1"
   ]
  },
  {
   "cell_type": "code",
   "execution_count": 19,
   "metadata": {},
   "outputs": [
    {
     "name": "stdout",
     "output_type": "stream",
     "text": [
      "Yerevan\n"
     ]
    },
    {
     "data": {
      "text/plain": [
       "'Yerevan'"
      ]
     },
     "execution_count": 19,
     "metadata": {},
     "output_type": "execute_result"
    }
   ],
   "source": [
    "user_added_value2= input() \n",
    "user_added_value2"
   ]
  },
  {
   "cell_type": "code",
   "execution_count": 20,
   "metadata": {},
   "outputs": [],
   "source": [
    "list2 = list1.copy()"
   ]
  },
  {
   "cell_type": "code",
   "execution_count": 21,
   "metadata": {},
   "outputs": [],
   "source": [
    "list2.extend([user_added_value1,user_added_value2])"
   ]
  },
  {
   "cell_type": "code",
   "execution_count": 22,
   "metadata": {},
   "outputs": [
    {
     "name": "stdout",
     "output_type": "stream",
     "text": [
      "List1 before addingg values:  ['hello', 1, True]\n",
      "List1 before addingg values:  ['hello', 1, True, 'Armenia', 'Yerevan']\n"
     ]
    }
   ],
   "source": [
    "print('List1 before addingg values: ',list1)\n",
    "print('List1 before addingg values: ',list2)"
   ]
  },
  {
   "cell_type": "markdown",
   "metadata": {},
   "source": [
    "# Problem 2 \n",
    "\n",
    "Create the list *list2*, which contains some values of your choice. Get one value, using the input() function, and check how many times the given value appears in the list *list2*. ​Print the result in the following format:\n",
    "\n",
    "\n",
    "(in this example user input is 2, the list2 is [0, ‘hi’, 2, 100, 300, 2]) \n",
    "\n",
    "list2 = [0, ‘hi’, 2, 100, 300, 2] \n",
    "\n",
    "Number of 2s = 2 \n",
    "\n",
    "\n",
    "\n"
   ]
  },
  {
   "cell_type": "code",
   "execution_count": 15,
   "metadata": {},
   "outputs": [],
   "source": [
    "list2 = [2,4,5,'Ashtarak',19465,True,'True',4]"
   ]
  },
  {
   "cell_type": "code",
   "execution_count": 16,
   "metadata": {},
   "outputs": [
    {
     "name": "stdout",
     "output_type": "stream",
     "text": [
      "True\n"
     ]
    },
    {
     "data": {
      "text/plain": [
       "'True'"
      ]
     },
     "execution_count": 16,
     "metadata": {},
     "output_type": "execute_result"
    }
   ],
   "source": [
    "add = input()\n",
    "add\n"
   ]
  },
  {
   "cell_type": "code",
   "execution_count": 17,
   "metadata": {},
   "outputs": [],
   "source": [
    "list2.append(add)"
   ]
  },
  {
   "cell_type": "code",
   "execution_count": 18,
   "metadata": {},
   "outputs": [
    {
     "name": "stdout",
     "output_type": "stream",
     "text": [
      "Number of 'True' s =  2\n"
     ]
    }
   ],
   "source": [
    "print(\"Number of 'True' s = \", list2.count('True'))"
   ]
  },
  {
   "cell_type": "markdown",
   "metadata": {},
   "source": [
    "# Problem 3 \n",
    "Create the set ​set3 ​containing the values of type int of your choice. Get one value, using the input() function, and check if the value is between the minimum and maximum values of the set ​set3 ​(min<value<max). Print True (it is) or False (it is not) accordingly."
   ]
  },
  {
   "cell_type": "code",
   "execution_count": 4,
   "metadata": {},
   "outputs": [
    {
     "name": "stdout",
     "output_type": "stream",
     "text": [
      "14\n"
     ]
    }
   ],
   "source": [
    "set3= {3,5,7,5,6,9,10,2,3,1,1}\n",
    "some_value = int(input())"
   ]
  },
  {
   "cell_type": "code",
   "execution_count": 5,
   "metadata": {},
   "outputs": [
    {
     "name": "stdout",
     "output_type": "stream",
     "text": [
      "False\n"
     ]
    }
   ],
   "source": [
    "if some_value< max(set3) & some_value>min(set3):\n",
    "    print(True)\n",
    "else:\n",
    "    print(False)"
   ]
  },
  {
   "cell_type": "markdown",
   "metadata": {},
   "source": [
    "# Problem 4\n",
    "\n",
    "\n",
    "Create the tuple ​t2 ​containing some values of your choice. Replace the value at index ​4 ​by the value “hello”. Print the tuple ​t2 ​before and after the change. Note that the tuples are immutable i.e. cannot be modified.\n"
   ]
  },
  {
   "cell_type": "code",
   "execution_count": 12,
   "metadata": {},
   "outputs": [],
   "source": [
    "t2 = (3,5,6,8,1,'world','Armenia')\n",
    "t3 = t2[0:4] + ('hello',) + t2[5:]"
   ]
  },
  {
   "cell_type": "code",
   "execution_count": 13,
   "metadata": {},
   "outputs": [
    {
     "name": "stdout",
     "output_type": "stream",
     "text": [
      "t2 before the change:  (3, 5, 6, 8, 1, 'world', 'Armenia')\n",
      "t2 before the change:  (3, 5, 6, 8, 'hello', 'world', 'Armenia')\n"
     ]
    }
   ],
   "source": [
    "print('t2 before the change: ',t2)\n",
    "print('t2 before the change: ',t3)"
   ]
  },
  {
   "cell_type": "markdown",
   "metadata": {},
   "source": [
    "# Problem 5 \n",
    "Create the dictionary ​dict1 ​containing some values of your choice. Get a value key ​of type String and a value ​value ​of type String, using the input() function. Add the values as a ​key:value ​pair to the dictionary ​dict1. ​Print the dictionary ​dict1 ​before and after adding the value."
   ]
  },
  {
   "cell_type": "code",
   "execution_count": 20,
   "metadata": {},
   "outputs": [],
   "source": [
    "dict1 = {\"permanent_size\": \"125MB\",\"cache_size\" : \"24MB\"}"
   ]
  },
  {
   "cell_type": "code",
   "execution_count": 21,
   "metadata": {},
   "outputs": [
    {
     "name": "stdout",
     "output_type": "stream",
     "text": [
      "Other\n"
     ]
    }
   ],
   "source": [
    "key = input()"
   ]
  },
  {
   "cell_type": "code",
   "execution_count": 22,
   "metadata": {},
   "outputs": [
    {
     "name": "stdout",
     "output_type": "stream",
     "text": [
      "34MB\n"
     ]
    }
   ],
   "source": [
    "value =input()"
   ]
  },
  {
   "cell_type": "code",
   "execution_count": 23,
   "metadata": {},
   "outputs": [],
   "source": [
    "dict2= dict1.copy()"
   ]
  },
  {
   "cell_type": "code",
   "execution_count": 24,
   "metadata": {},
   "outputs": [],
   "source": [
    "dict2[key] = value"
   ]
  },
  {
   "cell_type": "code",
   "execution_count": 25,
   "metadata": {},
   "outputs": [
    {
     "name": "stdout",
     "output_type": "stream",
     "text": [
      "dict1 before the change :  {'permanent_size': '125MB', 'cache_size': '24MB'}\n",
      "dict1 after the change :  {'permanent_size': '125MB', 'cache_size': '24MB', 'Other': '34MB'}\n"
     ]
    }
   ],
   "source": [
    "print(\"dict1 before the change : \",dict1)\n",
    "print(\"dict1 after the change : \",dict2)"
   ]
  }
 ],
 "metadata": {
  "kernelspec": {
   "display_name": "Python 3",
   "language": "python",
   "name": "python3"
  },
  "language_info": {
   "codemirror_mode": {
    "name": "ipython",
    "version": 3
   },
   "file_extension": ".py",
   "mimetype": "text/x-python",
   "name": "python",
   "nbconvert_exporter": "python",
   "pygments_lexer": "ipython3",
   "version": "3.8.3"
  }
 },
 "nbformat": 4,
 "nbformat_minor": 4
}

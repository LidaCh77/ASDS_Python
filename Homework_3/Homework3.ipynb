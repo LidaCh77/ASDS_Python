{
 "cells": [
  {
   "cell_type": "markdown",
   "metadata": {},
   "source": [
    "## Problem 1\n",
    "\n",
    "\n",
    "1. Create the class ​Car ​with the following attributes: m​ odel​, ​color​ and ​max_speed​. Inside the class, create the method ​compareCar(self, car2)​ which gets an object of type ​Car as an argument and returns the text \n",
    "\n",
    "\n",
    "“car1 is better than car2” if the ​maxSpeed​ attribute of your car is larger than the ​maxSpeed​ attribute of car2 and returns the text “car2 is better than car1”՝ otherwise.\n",
    "\n",
    "Create class object(s) and test your class.\n",
    "\n",
    "\n",
    "\n"
   ]
  },
  {
   "cell_type": "code",
   "execution_count": 34,
   "metadata": {},
   "outputs": [],
   "source": [
    "class Car:\n",
    "    \n",
    "    \n",
    "    def __init__(self, model, color, max_speed):\n",
    "        self.model = model\n",
    "        self.color = color \n",
    "        self.max_speed = max_speed\n",
    "        \n",
    "    \n",
    "    \n",
    "    def compareCar(self, car2):\n",
    "        if self.max_speed > car2.max_speed:\n",
    "            print('car1 is better than car2')\n",
    "        else:\n",
    "            print('car2 is better than car1')"
   ]
  },
  {
   "cell_type": "code",
   "execution_count": 35,
   "metadata": {},
   "outputs": [],
   "source": [
    "car1 = Car('Mercedes', \"black\",400)\n",
    "car2 = Car('BMW', \"blue\",500)"
   ]
  },
  {
   "cell_type": "code",
   "execution_count": 36,
   "metadata": {},
   "outputs": [
    {
     "name": "stdout",
     "output_type": "stream",
     "text": [
      "car2 is better than car1\n"
     ]
    }
   ],
   "source": [
    "car1.compareCar(car2)"
   ]
  },
  {
   "cell_type": "markdown",
   "metadata": {},
   "source": [
    "## Problem 2\n",
    "\n",
    "2. Create the class ​Person​.\n",
    "\n",
    "\n",
    "\n",
    "\n",
    "\n",
    "Attributes:​ name​,\n",
    "​last_name​, \n",
    "a​ ge​, ​gender,​\n",
    "​student ​(this is a boolean attribute i.e.it takes values True/False), as well as\n",
    "a private attribute \n",
    "​password\n",
    "\n",
    "\n",
    "Methods:\n",
    "\n",
    "\n",
    "Greeting(self, second_person)​ - gets an object of type Person as an input and prints “Welcome dear ​X​.”, where ​X ​is the value of the n​ ame ​attribute of ​second_person.\n",
    "\n",
    "\n",
    "\n",
    "Goodbye(self)​ - prints “Bye everyone!”\n",
    "\n",
    "\n",
    "Favourite_num(self, num1)​ - gets an integer ​num1​ as an input and returns the text “My\n",
    "favourite number is ​num1​”, using the value of the attribute ​num1​.\n",
    "\n",
    "\n",
    "\n",
    "Read_file(self, filename)​ - gets a String ​filename​ as an input and tries to read the file with the name “​filename.​txt”​ , ​adding “.txt” at the end of the value of the attribute filename. ​Use the function ​open()​ to open the file.\n",
    "\n",
    "\n",
    "\n",
    "Add set and get methods for the attribute ​password​.\n",
    "Optional: Add a decorator which will check how long does it take to execute the method\n",
    "Greeting."
   ]
  },
  {
   "cell_type": "code",
   "execution_count": 44,
   "metadata": {},
   "outputs": [],
   "source": [
    "import time\n",
    "def dec(func):\n",
    "    def wrapper(*args,**kwargs):\n",
    "            t1=time.time()\n",
    "            func(*args,**kwargs)\n",
    "            t2=time.time()\n",
    "            print(t2-t1)\n",
    "    return wrapper\n",
    "\n",
    "\n",
    "class Person:\n",
    "    def __init__(self,name,last_name,age,gender,student,password):\n",
    "        self.name = name\n",
    "        self.last_name = last_name\n",
    "        self.age = age\n",
    "        self.gender = gender\n",
    "        self.student = student\n",
    "        self.__password = password\n",
    "    \n",
    "    \n",
    "    def setPassword(self,password):\n",
    "        self.__password=password\n",
    "    \n",
    "    def getPassword(self,new_password):\n",
    "        return(self.__password)\n",
    "   \n",
    "    @dec\n",
    "    def Greeting(self,second_person):\n",
    "        print (f\"Welcome dear {second_person.name}\")\n",
    "               \n",
    "    def Goodbye(self):\n",
    "        print(\"Bye everyone!\")\n",
    "    \n",
    "    def Fevourite_num(self,num1):\n",
    "        if isinstance(num1,int):\n",
    "               print(\"My favourite number is %num1\" %num1)\n",
    "            \n",
    "    def Read_file(self, filename):\n",
    "        if isinstance(filename,str):\n",
    "            fname=f\"{filename}+.txt\"\n",
    "            return open(fname)"
   ]
  },
  {
   "cell_type": "code",
   "execution_count": 45,
   "metadata": {},
   "outputs": [],
   "source": [
    "David = Person(\"Davit\",\"Harutyunyan\", 31, \"M\", True, \"D#HlIDA@8\")\n",
    "Lida = Person(\"Lida\",\"Aristakesyan\", 26, \"F\", True, \"LiDav@kj8#\")"
   ]
  },
  {
   "cell_type": "code",
   "execution_count": 46,
   "metadata": {},
   "outputs": [
    {
     "name": "stdout",
     "output_type": "stream",
     "text": [
      "Welcome dear Davit\n",
      "9.5367431640625e-05\n"
     ]
    }
   ],
   "source": [
    "Lida.Greeting(David)"
   ]
  },
  {
   "cell_type": "code",
   "execution_count": null,
   "metadata": {},
   "outputs": [],
   "source": []
  }
 ],
 "metadata": {
  "kernelspec": {
   "display_name": "Python 3",
   "language": "python",
   "name": "python3"
  },
  "language_info": {
   "codemirror_mode": {
    "name": "ipython",
    "version": 3
   },
   "file_extension": ".py",
   "mimetype": "text/x-python",
   "name": "python",
   "nbconvert_exporter": "python",
   "pygments_lexer": "ipython3",
   "version": "3.8.3"
  }
 },
 "nbformat": 4,
 "nbformat_minor": 4
}

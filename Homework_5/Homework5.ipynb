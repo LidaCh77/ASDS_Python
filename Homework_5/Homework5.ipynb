{
 "cells": [
  {
   "cell_type": "markdown",
   "metadata": {},
   "source": [
    "## Problem 1\n",
    "\n",
    "\n",
    "Create the function ​div(x, y), ​which gets 2 attributes x​ ​and ​y ​and returns the value x/y. Inside the function write an assert statement which checks whether the value of ​y ​is 0 and gives an error message “Can’t divide”, in case the condition is not satisfied.\n"
   ]
  },
  {
   "cell_type": "code",
   "execution_count": 1,
   "metadata": {},
   "outputs": [],
   "source": [
    "def div(x,y):\n",
    "    assert y!=0,\"Can't divide\"\n",
    "    return(x/y)"
   ]
  },
  {
   "cell_type": "markdown",
   "metadata": {},
   "source": [
    "## Problem 2\n",
    "\n",
    "Create a list with the following values: ​['a', 0, 2]. ​Write a program which will go over the list using a loop and print the reciprocal of each value from the list (1/x). If there are cases when you cannot calculate 1/x for the value, you should cover those by a corresponding exception.\n",
    "The output of the program should be of the following format: The entry is: ​the​ ​current entry of the list\n",
    "The reciprocal of ​the​ ​current entry of the list ​is ​the value of the reciprocal OR\n",
    "The entry is:​ the​ ​current entry of the list Oops! ​The exception that occured\n",
    "\n"
   ]
  },
  {
   "cell_type": "code",
   "execution_count": 3,
   "metadata": {},
   "outputs": [
    {
     "name": "stdout",
     "output_type": "stream",
     "text": [
      "The current entery is a\n",
      "Oops! unsupported operand type(s) for /: 'int' and 'str'\n",
      "The current entery is 0\n",
      "Oops! division by zero\n",
      "The current entery is 2\n",
      "The reciprocal of 2 is 0.5\n"
     ]
    }
   ],
   "source": [
    "some_list=[\"a\",0,2]\n",
    "for i in some_list:\n",
    "    print(f\"The current entry is {i}\")\n",
    "    try:\n",
    "        print(f\"The reciprocal of {i} is {1/i}\")\n",
    "    except Exception as exp:\n",
    "         print(f\"Oops! {exp}\")"
   ]
  },
  {
   "cell_type": "markdown",
   "metadata": {},
   "source": [
    "## Problem 3\n",
    "\n",
    "\n",
    "Create the class ​Person​.\n",
    "Attributes:​ name​, ​last_name​, a​ ge​, ​gender,​ ​student ​(this is a boolean attribute i.e.it\n",
    "takes values True/False), as well as a private attribute ​password\n",
    "Methods:\n",
    "Greeting(self, second_person)​ - gets an object of type Person as an input and prints “Welcome dear ​X​.”, where ​X ​is the value of the n​ ame ​attribute of ​second_person. Goodbye(self)​ - prints “Bye everyone!”\n",
    "Favourite_num(self, num1)​ - gets an integer ​num1​ as an input and returns the text “My\n",
    "favourite number is ​num1​”, using the value of the attribute ​num1​.\n",
    "Read_file(self, filename)​ - gets a String ​filename​ as an input and tries to read the file with the name “​filename.​txt”​ , ​adding “.txt” at the end of the value of the attribute filename. ​Use the function ​open()​ to open the file.\n",
    "Add some exceptions to your class where it is necessary (at least one general and one specific exception).\n",
    "Add set and get methods for the attribute ​password​.\n",
    "Optional: Add a decorator which will check how long does it take to execute the method\n",
    "Greeting."
   ]
  },
  {
   "cell_type": "code",
   "execution_count": 5,
   "metadata": {},
   "outputs": [],
   "source": [
    "import time\n",
    "def dec(func):\n",
    "    def wrapper(*args,**kwargs):\n",
    "            time1=time.time()\n",
    "            func(*args,**kwargs)\n",
    "            time2=time.time()\n",
    "            print(time2-time1)\n",
    "    return wrapper\n",
    "\n",
    "\n",
    "class Person:\n",
    "    \n",
    "    def __init__(self, name, last_name, age, gender, student, password):\n",
    "        self.name=name\n",
    "        self.last_name=last_name\n",
    "        self.age=age\n",
    "        self.gender=gender\n",
    "        self.student= student\n",
    "        self.__password=password\n",
    "        \n",
    "    def setPassword(self,password):\n",
    "        self.__password=password\n",
    "    \n",
    "    def getPassword(self,new_password):\n",
    "        return(self.__password)\n",
    "   \n",
    "    @dec\n",
    "    def Greeting(self,second_person):\n",
    "        print (f\"Welcome dear {second_person.name}\")\n",
    "               \n",
    "    def Goodbye(self):\n",
    "        return(\"Bye everyone!\")\n",
    "    \n",
    "    def Fevourite_num(self,num1):\n",
    "        try:\n",
    "            print(f\"My favourite number is {int(num1)}\")\n",
    "        except Exception as exp:\n",
    "            print(exp)\n",
    "        \n",
    "            \n",
    "    def Read_file(self, filename):\n",
    "        if isinstance(filename,str):\n",
    "            fname=f\"{filename}+.txt\"\n",
    "            try:\n",
    "                return open(fname)\n",
    "            except FileNotFoundError:\n",
    "                print(\"No such file or directory\")"
   ]
  },
  {
   "cell_type": "code",
   "execution_count": null,
   "metadata": {},
   "outputs": [],
   "source": []
  }
 ],
 "metadata": {
  "kernelspec": {
   "display_name": "Python 3",
   "language": "python",
   "name": "python3"
  },
  "language_info": {
   "codemirror_mode": {
    "name": "ipython",
    "version": 3
   },
   "file_extension": ".py",
   "mimetype": "text/x-python",
   "name": "python",
   "nbconvert_exporter": "python",
   "pygments_lexer": "ipython3",
   "version": "3.8.3"
  }
 },
 "nbformat": 4,
 "nbformat_minor": 4
}

{
 "cells": [
  {
   "cell_type": "markdown",
   "metadata": {},
   "source": [
    "# Problem1 \n",
    "    \n",
    "    \n",
    "    Create the script ​problem1.py, ​which gets 3 positional command line arguments of type String: ​text, first_word, second_word. ​Print the new version of the given ​text, replacing all the occurrences of the ​first_word ​in ​text ​with the ​second_word ​in the following format:\n",
    "    \n",
    "    \n",
    "    \n",
    "    \n",
    "“The given text: This text is a sample text. ”\n",
    "\n",
    "“First word: text”\n",
    "\n",
    "“Second word: image”\n",
    "\n",
    "“Output string: This image is a sample image. ”"
   ]
  },
  {
   "cell_type": "code",
   "execution_count": 3,
   "metadata": {},
   "outputs": [
    {
     "name": "stdout",
     "output_type": "stream",
     "text": [
      "The given text:  This text is a simple text. \n",
      "First word:  text\n",
      "First word:  image\n",
      "Output string:  This image is a simple image. \n"
     ]
    }
   ],
   "source": [
    "run problem1.py \"This text is a simple text. \" \"text\" \"image\""
   ]
  },
  {
   "cell_type": "markdown",
   "metadata": {},
   "source": [
    "# Problem 2 \n",
    "\n",
    "\n",
    "Create the script ​problem2.py​,\n",
    "\n",
    "\n",
    "**1) Import ​datetime, time​ and ​calendar​ modules**\n",
    "\n",
    "\n",
    "**2) Print on separate lines՝:**\n",
    "\n",
    "a) The date of your birthday\n",
    "\n",
    "b) The year of your birthday (using the appropriate function on the date of\n",
    "your birthday)\n",
    "\n",
    "c) The month of your birthday (using the appropriate function on the date of\n",
    "your birthday)\n",
    "\n",
    "d) The day of your birthday (using the appropriate function on the date of\n",
    "your birthday)\n",
    "\n",
    "e) Find and print the weekday of your birthday\n",
    "\n",
    "f) Find and print how many days are left till your upcoming birthday\n",
    "\n",
    "\n",
    "\n",
    "**3) Print the calendar of May 2017 **\n",
    "\n",
    "\n",
    "**4) Print yesterday’s date and time**\n",
    "\n",
    "a) Add 2 days to yesterday’s date and time and print the result\n",
    "\n",
    "b) Subtract 3 days from yesterday’s date and time and print the result"
   ]
  },
  {
   "cell_type": "code",
   "execution_count": 6,
   "metadata": {},
   "outputs": [
    {
     "name": "stdout",
     "output_type": "stream",
     "text": [
      "My Birthday:  1994-09-18\n",
      "The Year of My Birthday:  1994\n",
      "The Month of My Birthday:  9\n",
      "The Day of My Birthday:  18\n",
      "The Weekday of My Birthday:  7\n",
      "Day are left till my upcoming birthday:  146 days, 0:00:00\n",
      "Here is the calendar of May 2017\n",
      "      May 2017\n",
      "Mo Tu We Th Fr Sa Su\n",
      " 1  2  3  4  5  6  7\n",
      " 8  9 10 11 12 13 14\n",
      "15 16 17 18 19 20 21\n",
      "22 23 24 25 26 27 28\n",
      "29 30 31\n",
      "\n",
      "Yesterday date and time: 2021-04-24 13:18:43.623480\n",
      "Added 2 days:  2021-04-26 13:18:43.623480\n",
      "Subtracted 3 days:  2021-04-21 13:18:43.623480\n"
     ]
    }
   ],
   "source": [
    "run problem2.py"
   ]
  },
  {
   "cell_type": "markdown",
   "metadata": {},
   "source": [
    "# Problem 3 \n",
    "\n",
    "\n",
    "1) Create the list ​a ​with the following values: ​1, 4, 5, 7, 8, -2, 0, -1\n",
    "\n",
    "\n",
    "2) Print the values of list ​a ​at indices ​3 ​and 5​\n",
    "\n",
    "\n",
    "3) Sort the list ​a ​in a decreasing order and assign the newly obtained list to the variable ​a_sorted, ​the list ​a ​should not be changed\n",
    "\n",
    "\n",
    "4) Print the 2 sublists of the list ​a_sorted c​ ontaining the indices 1...3 and 2...6\n",
    "\n",
    "\n",
    "5) Delete the values at indices ​2 ​and 3​ ​from ​a_sorted\n",
    "\n",
    "\n",
    "6) Print the list ​a_sorted\n",
    "\n",
    "7) Create the list ​b ​with the following values: ​“grapes”, “Potatoes”, “tomatoes”, “Orange”, “Lemon”, “Broccoli”, “Carrot”, “Sausages”\n",
    "\n",
    "8) Sort the list ​b ​in an increasing order and assign the newly obtained list to the variable ​b_sorted, ​the list ​b ​should not be changed\n",
    "\n",
    "9) Create a new list ​c​. The first 3 values of the list ​c​ should be the elements from the list ​a ​at indices 1...3 and the last values of the list ​c ​should be the elements from the list ​b ​at indices 4...6.\n",
    "\n",
    "10) Print the list ​c\n"
   ]
  },
  {
   "cell_type": "code",
   "execution_count": 19,
   "metadata": {},
   "outputs": [
    {
     "name": "stdout",
     "output_type": "stream",
     "text": [
      "3rd indexed and 5th indexed values of a list: 7 -2\n",
      "2 sublists of a_sorted:  [7, 5, 4] [5, 4, 1, 0, -1]\n",
      "a_sorted list:  [8, 7, 1, 0, -1, -2]\n",
      "List c:  [4, 5, 7, 'Lemon', 'Broccoli', 'Carrot']\n"
     ]
    }
   ],
   "source": [
    "a = [1, 4, 5, 7, 8, -2, 0, -1]\n",
    "print('3rd indexed and 5th indexed values of a list:', a[3], a[5])\n",
    "\n",
    "a_sorted = a.copy()\n",
    "a_sorted.sort(reverse = True)\n",
    "print('2 sublists of a_sorted: ',a_sorted[1:4],a_sorted[2:7])\n",
    "del a_sorted[2:4]\n",
    "print('a_sorted list: ',a_sorted)\n",
    "\n",
    "b = ['grapes', 'Potatoes', 'tomatoes', 'Orange', 'Lemon', 'Broccoli', 'Carrot', 'Sausages']\n",
    "b_sorted = b.copy()\n",
    "b_sorted.sort()\n",
    "\n",
    "\n",
    "c = a[1:4] + b[4:7]\n",
    "print('List c: ',c)"
   ]
  },
  {
   "cell_type": "markdown",
   "metadata": {},
   "source": [
    "# Problem 4\n",
    "\n",
    "\n",
    "Create the dictionary ​market​ with the following values: \n",
    "\n",
    "\n",
    "​{“dairy”: [“yogurt”, “cheese”], “fruits”: [‘banana’, ‘apple’, ‘orange’, ‘lemon’, ‘apple’, ‘banana’, ‘banana’]}​.\n",
    "\n",
    "\n",
    "\n",
    "Add the key ​“candies” ​with a value ​[‘mars’, ‘kinder’, ‘twix’] ​to the dictionary ​Market​։ \n",
    "\n",
    "Sort the values at the key ​“fruits”​ in an increasing order and get rid of the duplicate values։ \n",
    "\n",
    "\n",
    "Print the dictionary ​Market ​before and after the changes."
   ]
  },
  {
   "cell_type": "code",
   "execution_count": 34,
   "metadata": {},
   "outputs": [],
   "source": [
    "market = {'dairy': ['yogurt', 'cheese'], 'fruits': ['banana', 'apple', 'orange', 'lemon', 'apple', 'banana', 'banana']}"
   ]
  },
  {
   "cell_type": "code",
   "execution_count": 35,
   "metadata": {},
   "outputs": [],
   "source": [
    "market1 = market.copy()"
   ]
  },
  {
   "cell_type": "code",
   "execution_count": 29,
   "metadata": {},
   "outputs": [],
   "source": [
    "market1['candies'] = ['mars', 'kinder', 'twix']"
   ]
  },
  {
   "cell_type": "code",
   "execution_count": 36,
   "metadata": {},
   "outputs": [],
   "source": [
    "market1['fruits'].sort()"
   ]
  },
  {
   "cell_type": "code",
   "execution_count": 37,
   "metadata": {},
   "outputs": [],
   "source": [
    "market1['fruits'] = set(market1['fruits'])"
   ]
  },
  {
   "cell_type": "code",
   "execution_count": 38,
   "metadata": {},
   "outputs": [
    {
     "name": "stdout",
     "output_type": "stream",
     "text": [
      "Before the change Market dict:  {'dairy': ['yogurt', 'cheese'], 'fruits': ['apple', 'apple', 'banana', 'banana', 'banana', 'lemon', 'orange']}\n",
      "After the change Market dict:  {'dairy': ['yogurt', 'cheese'], 'fruits': {'banana', 'apple', 'lemon', 'orange'}}\n"
     ]
    }
   ],
   "source": [
    "print('Before the change Market dict: ', market)\n",
    "print('After the change Market dict: ',market1)"
   ]
  },
  {
   "cell_type": "code",
   "execution_count": null,
   "metadata": {},
   "outputs": [],
   "source": []
  }
 ],
 "metadata": {
  "kernelspec": {
   "display_name": "Python 3",
   "language": "python",
   "name": "python3"
  },
  "language_info": {
   "codemirror_mode": {
    "name": "ipython",
    "version": 3
   },
   "file_extension": ".py",
   "mimetype": "text/x-python",
   "name": "python",
   "nbconvert_exporter": "python",
   "pygments_lexer": "ipython3",
   "version": "3.8.3"
  }
 },
 "nbformat": 4,
 "nbformat_minor": 4
}
